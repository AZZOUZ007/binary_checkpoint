{
 "cells": [
  {
   "cell_type": "code",
   "execution_count": 1,
   "id": "c7b0e45c",
   "metadata": {},
   "outputs": [
    {
     "name": "stdout",
     "output_type": "stream",
     "text": [
      "False\n",
      "True\n"
     ]
    }
   ],
   "source": [
    "def binary_search(arr, target):\n",
    "    left, right = 0, len(arr) - 1\n",
    "\n",
    "    while left <= right:\n",
    "        mid = (left + right) // 2\n",
    "\n",
    "        if arr[mid] == target:\n",
    "            return True\n",
    "        elif arr[mid] < target:\n",
    "            left = mid + 1\n",
    "        else:\n",
    "            right = mid - 1\n",
    "\n",
    "    return False\n",
    "\n",
    "# Test cases\n",
    "print(binary_search([1, 2, 3, 5, 8], 6))  # Output: False\n",
    "print(binary_search([1, 2, 3, 5, 8], 5))  # Output: True\n"
   ]
  },
  {
   "cell_type": "code",
   "execution_count": 2,
   "id": "38b8dfd5",
   "metadata": {},
   "outputs": [
    {
     "name": "stdout",
     "output_type": "stream",
     "text": [
      "81\n"
     ]
    }
   ],
   "source": [
    "def power(a, b):\n",
    "    return a ** b\n",
    "\n",
    "# Test case\n",
    "print(power(3, 4))  # Output: 81\n"
   ]
  },
  {
   "cell_type": "code",
   "execution_count": 3,
   "id": "a836cbcd",
   "metadata": {},
   "outputs": [
    {
     "name": "stdout",
     "output_type": "stream",
     "text": [
      "[13, 22, 29, 37, 46, 49, 52, 56, 71]\n"
     ]
    }
   ],
   "source": [
    "def bubble_sort(arr):\n",
    "    n = len(arr)\n",
    "    for i in range(n):\n",
    "        for j in range(0, n - i - 1):\n",
    "            if arr[j] > arr[j + 1]:\n",
    "                arr[j], arr[j + 1] = arr[j + 1], arr[j]\n",
    "\n",
    "# Test case\n",
    "sample_data = [29, 13, 22, 37, 52, 49, 46, 71, 56]\n",
    "bubble_sort(sample_data)\n",
    "print(sample_data)  # Output: [13, 22, 29, 37, 46, 49, 52, 56, 71]\n"
   ]
  },
  {
   "cell_type": "code",
   "execution_count": 4,
   "id": "c9bf5416",
   "metadata": {},
   "outputs": [
    {
     "name": "stdout",
     "output_type": "stream",
     "text": [
      "[13, 22, 29, 37, 46, 49, 52, 56, 71]\n"
     ]
    }
   ],
   "source": [
    "def merge_sort(arr):\n",
    "    if len(arr) > 1:\n",
    "        mid = len(arr) // 2\n",
    "        left_half = arr[:mid]\n",
    "        right_half = arr[mid:]\n",
    "\n",
    "        merge_sort(left_half)\n",
    "        merge_sort(right_half)\n",
    "\n",
    "        i, j, k = 0, 0, 0\n",
    "\n",
    "        while i < len(left_half) and j < len(right_half):\n",
    "            if left_half[i] < right_half[j]:\n",
    "                arr[k] = left_half[i]\n",
    "                i += 1\n",
    "            else:\n",
    "                arr[k] = right_half[j]\n",
    "                j += 1\n",
    "            k += 1\n",
    "\n",
    "        while i < len(left_half):\n",
    "            arr[k] = left_half[i]\n",
    "            i += 1\n",
    "            k += 1\n",
    "\n",
    "        while j < len(right_half):\n",
    "            arr[k] = right_half[j]\n",
    "            j += 1\n",
    "            k += 1\n",
    "\n",
    "# Test case\n",
    "sample_data = [29, 13, 22, 37, 52, 49, 46, 71, 56]\n",
    "merge_sort(sample_data)\n",
    "print(sample_data)  # Output: [13, 22, 29, 37, 46, 49, 52, 56, 71]\n"
   ]
  },
  {
   "cell_type": "code",
   "execution_count": 5,
   "id": "f8b0d2b3",
   "metadata": {},
   "outputs": [
    {
     "name": "stdout",
     "output_type": "stream",
     "text": [
      "[13, 22, 29, 37, 46, 49, 52, 56, 71]\n"
     ]
    }
   ],
   "source": [
    "def quick_sort(arr):\n",
    "    if len(arr) <= 1:\n",
    "        return arr\n",
    "    \n",
    "    pivot = arr[len(arr) // 2]\n",
    "    left = [x for x in arr if x < pivot]\n",
    "    middle = [x for x in arr if x == pivot]\n",
    "    right = [x for x in arr if x > pivot]\n",
    "    \n",
    "    return quick_sort(left) + middle + quick_sort(right)\n",
    "\n",
    "# Test case\n",
    "sample_data = [29, 13, 22, 37, 52, 49, 46, 71, 56]\n",
    "sorted_data = quick_sort(sample_data)\n",
    "print(sorted_data)  # Output: [13, 22, 29, 37, 46, 49, 52, 56, 71]\n"
   ]
  },
  {
   "cell_type": "code",
   "execution_count": null,
   "id": "91a76cbf",
   "metadata": {},
   "outputs": [],
   "source": [
    "#creer arbre\n",
    "class Node:\n",
    "\n",
    "    def __init__(self, data):\n",
    "        self.data = data\n",
    "        self.left = None\n",
    "        self.right = None\n",
    "        self.parent = None\n",
    "\n",
    "    def __str__(self):\n",
    "        return str(self.data)"
   ]
  },
  {
   "cell_type": "code",
   "execution_count": null,
   "id": "0b353b9b",
   "metadata": {},
   "outputs": [],
   "source": [
    "#inserer noeud\n",
    "def insert(self, data):\n",
    "    if data < self.data:\n",
    "        if self.left is None:\n",
    "            self.left = Node(data)\n",
    "            self.left.parent = self\n",
    "        else:\n",
    "            self.left.insert(data)\n",
    "    elif data > self.data:\n",
    "        if self.right is None:\n",
    "            self.right = Node(data)\n",
    "            self.right.parent = self\n",
    "        else:\n",
    "            self.right.insert(data)"
   ]
  },
  {
   "cell_type": "code",
   "execution_count": null,
   "id": "7695bff5",
   "metadata": {},
   "outputs": [],
   "source": [
    "bst = Node(12)  # Root of the BST.\n",
    "bst.insert(6)\n",
    "bst.insert(14)"
   ]
  },
  {
   "cell_type": "code",
   "execution_count": null,
   "id": "a8827af4",
   "metadata": {},
   "outputs": [],
   "source": [
    "#traverser l arbre\n",
    "def pprint(self, level=0):\n",
    "    if self.right:\n",
    "        self.right.pprint(level + 1)\n",
    "    print(f\"{' ' * 4 * level}{self.data}\")\n",
    "    if self.left:\n",
    "        self.left.pprint(level + 1)"
   ]
  },
  {
   "cell_type": "code",
   "execution_count": null,
   "id": "3345879e",
   "metadata": {},
   "outputs": [],
   "source": [
    "#traverser in order\n",
    "def __iter__(self):\n",
    "    if self.left:\n",
    "        for node in self.left:\n",
    "            yield node\n",
    "    yield self.data\n",
    "    if self.right:\n",
    "        for node in self.right:\n",
    "            yield node"
   ]
  },
  {
   "cell_type": "code",
   "execution_count": null,
   "id": "6ad05e31",
   "metadata": {},
   "outputs": [],
   "source": [
    "def get(self, data):\n",
    "    if data < self.data:\n",
    "        return self.left.get(data) if self.left else None\n",
    "    elif data > self.data:\n",
    "        return self.right.get(data) if self.right else None\n",
    "    return self\n",
    "On peut emballer get() dans __getitem__() pour trouver les nœuds avec une syntaxe minimale :\n",
    "\n",
    "def __getitem__(self, key):\n",
    "    node = self.get(key)\n",
    "    if node:\n",
    "        return node\n",
    "    raise KeyError(key)\n",
    "On gagne donc en kif d'utilisation :\n",
    "\n",
    "node = bst.get(9)\n",
    "node = bst[9]"
   ]
  },
  {
   "cell_type": "code",
   "execution_count": null,
   "id": "e3eb891b",
   "metadata": {},
   "outputs": [],
   "source": [
    "def get_predecessor(self):\n",
    "    if self.left:\n",
    "        return self.left.max()\n",
    "    node = self\n",
    "    while node.is_left_child():\n",
    "        node = node.parent\n",
    "    return node.parent"
   ]
  },
  {
   "cell_type": "code",
   "execution_count": null,
   "id": "6a210378",
   "metadata": {},
   "outputs": [],
   "source": [
    "def delete(self, data):\n",
    "\n",
    "    node = self.get(data)\n",
    "\n",
    "    if not node:\n",
    "        return\n",
    "\n",
    "    children_count = node.count_children()\n",
    "\n",
    "    if children_count == 0:\n",
    "        if node.is_left_child():\n",
    "            node.parent.left = None\n",
    "        else:\n",
    "            node.parent.right = None\n",
    "        del node\n",
    "\n",
    "    elif children_count == 1:\n",
    "        child = node.left or node.right\n",
    "        if node.is_left_child():\n",
    "            node.parent.left = child\n",
    "            child.parent = node.parent\n",
    "            del node\n",
    "        elif node.is_right_child():\n",
    "            node.parent.right = child\n",
    "            child.parent = node.parent\n",
    "            del node\n",
    "        else:\n",
    "            root = node\n",
    "            root.data = child.data\n",
    "            root.left = child.left\n",
    "            root.right = child.right\n",
    "            if child.left:\n",
    "                child.left.parent = root\n",
    "            if child.right:\n",
    "                child.right.parent = root\n",
    "            del child\n",
    "\n",
    "    else:\n",
    "        succ = node.get_successor()\n",
    "        node.data = succ.data\n",
    "        if succ.is_left_child():\n",
    "            succ.parent.left = succ.right\n",
    "        else:\n",
    "            succ.parent.right = succ.right\n",
    "        if succ.right:\n",
    "            succ.right.parent = succ.parent\n",
    "        del succ"
   ]
  }
 ],
 "metadata": {
  "kernelspec": {
   "display_name": "Python 3 (ipykernel)",
   "language": "python",
   "name": "python3"
  },
  "language_info": {
   "codemirror_mode": {
    "name": "ipython",
    "version": 3
   },
   "file_extension": ".py",
   "mimetype": "text/x-python",
   "name": "python",
   "nbconvert_exporter": "python",
   "pygments_lexer": "ipython3",
   "version": "3.10.9"
  }
 },
 "nbformat": 4,
 "nbformat_minor": 5
}
